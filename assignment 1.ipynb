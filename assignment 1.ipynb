{
 "cells": [
  {
   "cell_type": "code",
   "execution_count": null,
   "id": "cc9092e8-a255-4b25-995e-a52dec91bbc8",
   "metadata": {},
   "outputs": [],
   "source": [
    "#Q1. Create one variable containing following type of data:\n",
    "#(i) string\n",
    "#(ii) list\n",
    "#(iii) float\n",
    "#(iv) tuple\n",
    "Answer\n",
    "a='Mayur is a student of PWskills'\n",
    "b=[1,2,3,4.5,'Mayur', 4+5J]\n",
    "c=9.5\n",
    "d=(5,'Mayur', 5.4 )\n",
    "\n",
    "print(type(a), type(b), type(c), type(d))\n",
    "\n",
    "output\n",
    "<class 'str'> <class 'list'> <class 'float'> <class 'tuple'>\n"
   ]
  },
  {
   "cell_type": "code",
   "execution_count": null,
   "id": "80556e62-3159-44a5-a91a-4afccd06e8d4",
   "metadata": {},
   "outputs": [],
   "source": [
    "#Q2. Given are some following variables containing data:\n",
    "#(i) var1 = ‘ ‘\n",
    "#(ii) var2 = ‘[ DS , ML , Python]’\n",
    "#(iii) var3 = [ ‘DS’ , ’ML’ , ‘Python’ ]\n",
    "#(iv) var4 = 1.\n",
    "#What will be the data type of the above given variable.\n",
    "#Answer\n",
    "#1) string\n",
    "#2) string\n",
    "#3)list\n",
    "#4)float\n"
   ]
  },
  {
   "cell_type": "code",
   "execution_count": null,
   "id": "fd1b529d-2abb-4154-9863-f6d17841ea2c",
   "metadata": {},
   "outputs": [],
   "source": [
    "#Q3. Explain the use of the following operators using an example:\n",
    "#(i) /\n",
    "#(ii) %\n",
    "#(iii) //\n",
    "#(iv) **\n",
    "\n",
    "#1) /, it gives the Quotient in the Output\n",
    "4/2\n",
    "2.0\n",
    "\n",
    "#2) %, it gives the remainder\n",
    "4%2\n",
    "0\n",
    "\n",
    "#3) //, it gives the quotient by making it to equivalent integer\n",
    "4//2\n",
    "2\n",
    "\n",
    "#example 2)\n",
    "5//2\n",
    "2\n",
    "\n",
    "#4) **, it is a exponential operator, which takes the right hand side value to the power of the left hand side value\n",
    "2**2\n",
    "4"
   ]
  },
  {
   "cell_type": "code",
   "execution_count": null,
   "id": "7a0f5be8-a771-47b2-8027-a87b54a2fb48",
   "metadata": {},
   "outputs": [],
   "source": [
    "#Q4. Create a list of length 10 of your choice containing multiple types of data. Using for loop print the element and its data type.\n",
    "a=[2, 4.5, 'mayur', True, 5+8j, False, 'pwskills', 4,99.0, 89+4J, 100]\n",
    "for i in a:\n",
    "    print(i,type(i))\n",
    "\n",
    "out put\n",
    "2 <class 'int'>\n",
    "4.5 <class 'float'>\n",
    "shoaib <class 'str'>\n",
    "True <class 'bool'>\n",
    "(5+8j) <class 'complex'>\n",
    "False <class 'bool'>\n",
    "pwskills <class 'str'>\n",
    "4 <class 'int'>\n",
    "99.0 <class 'float'>\n",
    "(89+4j) <class 'complex'>\n",
    "100 <class 'int'>"
   ]
  },
  {
   "cell_type": "code",
   "execution_count": null,
   "id": "fe44b9fd-1e3d-4713-a027-852da02e2f3c",
   "metadata": {},
   "outputs": [],
   "source": [
    "#Q5. Using a while loop, verify if the number A is purely divisible by number B and if so then how many times it can be divisible.\n",
    "a=int(input())\n",
    "b=int(input())\n",
    "while a%b==0:\n",
    "    print('a is divisible by b', 'and a is divisible by b for', a/b, 'times')\n",
    "    break\n",
    "else:\n",
    "    print('a is not divisible by b')\n",
    "out put\n",
    " 4\n",
    " 2\n",
    "a is divisible by b and a is divisible by b for 2.0 times"
   ]
  },
  {
   "cell_type": "code",
   "execution_count": null,
   "id": "2bcdec27-3ce8-40b6-a538-cab91ffef180",
   "metadata": {},
   "outputs": [],
   "source": [
    "#Q6. Create a list containing 25 int type data. Using for loop and if-else condition print if the element is divisible by 3 or not.\n",
    "a=[1,2,3,4,5,6,7,8,9,10,11,12,13,14,15,16,17,18,19,20,21,22,23,24,25]\n",
    "type(a)\n",
    "list\n",
    "\n",
    "for i in a:\n",
    "    if i%3==0:\n",
    "        print(i, 'is divisible by 3')\n",
    "    else:\n",
    "            print(i, 'is not divisible by 3')\n",
    "output\n",
    "1 is not divisible by 3\n",
    "2 is not divisible by 3\n",
    "3 is divisible by 3\n",
    "4 is not divisible by 3\n",
    "5 is not divisible by 3\n",
    "6 is divisible by 3\n",
    "7 is not divisible by 3\n",
    "8 is not divisible by 3\n",
    "9 is divisible by 3\n",
    "10 is not divisible by 3\n",
    "11 is not divisible by 3\n",
    "12 is divisible by 3\n",
    "13 is not divisible by 3\n",
    "14 is not divisible by 3\n",
    "15 is divisible by 3\n",
    "16 is not divisible by 3\n",
    "17 is not divisible by 3\n",
    "18 is divisible by 3\n",
    "19 is not divisible by 3\n",
    "20 is not divisible by 3\n",
    "21 is divisible by 3\n",
    "22 is not divisible by 3\n",
    "23 is not divisible by 3\n",
    "24 is divisible by 3\n",
    "25 is not divisible by 3"
   ]
  },
  {
   "cell_type": "code",
   "execution_count": 2,
   "id": "6bb20d5b-7e7b-4276-bd4a-6a672bf88cae",
   "metadata": {},
   "outputs": [
    {
     "ename": "NameError",
     "evalue": "name 'p' is not defined",
     "output_type": "error",
     "traceback": [
      "\u001b[0;31m---------------------------------------------------------------------------\u001b[0m",
      "\u001b[0;31mNameError\u001b[0m                                 Traceback (most recent call last)",
      "Cell \u001b[0;32mIn[2], line 8\u001b[0m\n\u001b[1;32m      5\u001b[0m \u001b[38;5;28mtype\u001b[39m(a)\n\u001b[1;32m      6\u001b[0m \u001b[38;5;28mstr\u001b[39m\n\u001b[0;32m----> 8\u001b[0m a[\u001b[38;5;241m0\u001b[39m]\u001b[38;5;241m=\u001b[39m\u001b[43mp\u001b[49m\n",
      "\u001b[0;31mNameError\u001b[0m: name 'p' is not defined"
     ]
    }
   ],
   "source": [
    "#Q7. What do you understand about mutable and immutable data types? Give examples for both showing this property.\n",
    "#Immutable date type: A data type which cannot be eddited, which means we cannot do any changes in terms of adding, removing, replacing with the help of index value.\n",
    "#example\n",
    "a='mayur, 3, 4'\n",
    "type(a)\n",
    "str\n",
    "\n",
    "a[0]=p"
   ]
  },
  {
   "cell_type": "code",
   "execution_count": null,
   "id": "6de033c5-3fc0-431f-a05e-937e9b7cb6a9",
   "metadata": {},
   "outputs": [],
   "source": [
    "#Mutable data type: A data type which can be eddited, which means we can do any changes in terms of adding, removing, replacing with the help of index value.\n",
    "b=[10,5.6,'shoaib']\n",
    "type(b)\n",
    "list\n",
    "b[0]=50\n",
    "b\n",
    "[50, 5.6, 'shoaib']"
   ]
  }
 ],
 "metadata": {
  "kernelspec": {
   "display_name": "Python 3 (ipykernel)",
   "language": "python",
   "name": "python3"
  },
  "language_info": {
   "codemirror_mode": {
    "name": "ipython",
    "version": 3
   },
   "file_extension": ".py",
   "mimetype": "text/x-python",
   "name": "python",
   "nbconvert_exporter": "python",
   "pygments_lexer": "ipython3",
   "version": "3.10.8"
  }
 },
 "nbformat": 4,
 "nbformat_minor": 5
}
